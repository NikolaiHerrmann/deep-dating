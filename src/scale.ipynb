{
 "cells": [
  {
   "cell_type": "code",
   "execution_count": 1,
   "metadata": {},
   "outputs": [
    {
     "name": "stdout",
     "output_type": "stream",
     "text": [
      "Seed set to 43\n"
     ]
    }
   ],
   "source": [
    "from deep_dating.networks import DatingCNN\n",
    "from deep_dating.datasets import DatingDataLoader, DatasetName, SetType\n",
    "from deep_dating.metrics import DatingMetrics\n",
    "from deep_dating.preprocessing import PreprocessRunner\n",
    "from deep_dating.util import SEED, save_figure\n",
    "import torch\n",
    "import torch.nn as nn\n",
    "from tqdm import tqdm\n",
    "from sklearn.decomposition import PCA\n",
    "import matplotlib.pyplot as plt\n",
    "from sklearn.manifold import TSNE\n",
    "import seaborn as sns\n",
    "from sklearn.preprocessing import StandardScaler\n",
    "import numpy as np\n",
    "from sklearn.model_selection import train_test_split\n",
    "from sklearn.svm import SVC\n",
    "import pickle"
   ]
  },
  {
   "cell_type": "code",
   "execution_count": 29,
   "metadata": {},
   "outputs": [],
   "source": [
    "def merge_patches(all_labels, all_outputs, all_paths, p=None):\n",
    "\n",
    "    preds = {}\n",
    "\n",
    "    for i, img_name in enumerate(all_paths):\n",
    "        img_name = PreprocessRunner.get_base_img_name(img_name)\n",
    "        if p and img_name not in p:\n",
    "            continue\n",
    "        if not img_name in preds:\n",
    "            preds[img_name] = [all_labels[i], [all_outputs[i]]]\n",
    "        else:\n",
    "            preds[img_name][1].append(all_outputs[i])\n",
    "\n",
    "    features = []\n",
    "    labels = []\n",
    "\n",
    "    if p is None:\n",
    "        p = preds\n",
    "\n",
    "    for key, val in p.items():\n",
    "        preds[key][1] = np.mean(preds[key][1], axis=0)\n",
    "        features.append(preds[key][1])\n",
    "        labels.append(preds[key][0])\n",
    "        # print(preds[key][1].shape)\n",
    "        # exit()\n",
    "    features = np.array(features)\n",
    "\n",
    "    return np.array(labels), features, preds"
   ]
  },
  {
   "cell_type": "code",
   "execution_count": 30,
   "metadata": {},
   "outputs": [],
   "source": [
    "with open(\"runs/Feb15-19-21-40/model_epoch_0_feats_train.pkl\", \"rb\") as f:\n",
    "    labels_train_low, features_train_low, all_paths_train_low = pickle.load(f)\n",
    "    labels_train_low = labels_train_low.flatten()\n",
    "    labels_train_low, features_train_low, train_p = merge_patches(labels_train_low, features_train_low, all_paths_train_low)\n",
    "\n",
    "with open(\"runs/Feb15-19-21-40/model_epoch_0_feats_val.pkl\", \"rb\") as f:\n",
    "    labels_val_low, features_val_low, all_paths_val_low = pickle.load(f)\n",
    "    labels_val_low = labels_val_low.flatten()\n",
    "    labels_val_low, features_val_low, val_p = merge_patches(labels_val_low, features_val_low, all_paths_val_low)\n",
    "\n",
    "with open(\"runs/Feb18-10-52-17/model_epoch_1_feats_train.pkl\", \"rb\") as f:\n",
    "    labels_train_high, features_train_high, all_paths_train_high = pickle.load(f)\n",
    "    labels_train_high = labels_train_high.flatten()\n",
    "    labels_train_high, features_train_high, _ = merge_patches(labels_train_high, features_train_high, all_paths_train_high, train_p)\n",
    "\n",
    "with open(\"runs/Feb18-10-52-17/model_epoch_1_feats_val.pkl\", \"rb\") as f:\n",
    "    labels_val_high, features_val_high, all_paths_val_high = pickle.load(f)\n",
    "    labels_val_high = labels_val_high.flatten()\n",
    "    labels_val_high, features_val_high, _ = merge_patches(labels_val_high, features_val_high, all_paths_val_high, val_p)"
   ]
  },
  {
   "cell_type": "code",
   "execution_count": 31,
   "metadata": {},
   "outputs": [
    {
     "data": {
      "text/plain": [
       "(2692, 1536)"
      ]
     },
     "execution_count": 31,
     "metadata": {},
     "output_type": "execute_result"
    }
   ],
   "source": [
    "features_train_high.shape"
   ]
  },
  {
   "cell_type": "code",
   "execution_count": 32,
   "metadata": {},
   "outputs": [
    {
     "data": {
      "text/plain": [
       "(2692, 1536)"
      ]
     },
     "execution_count": 32,
     "metadata": {},
     "output_type": "execute_result"
    }
   ],
   "source": [
    "features_train_low.shape"
   ]
  },
  {
   "cell_type": "code",
   "execution_count": 64,
   "metadata": {},
   "outputs": [],
   "source": [
    "from sklearn.preprocessing import StandardScaler\n",
    "from sklearn.neural_network import MLPClassifier\n",
    "from sklearn.ensemble import RandomForestClassifier\n",
    "import keras\n",
    "from keras import layers\n",
    "from keras.utils import to_categorical\n",
    "from sklearn.preprocessing import LabelEncoder\n",
    "\n",
    "\n",
    "scaler = StandardScaler()"
   ]
  },
  {
   "cell_type": "code",
   "execution_count": 78,
   "metadata": {},
   "outputs": [],
   "source": [
    "new_train_x = np.hstack([features_train_low])\n",
    "new_val_x = np.hstack([features_val_low])"
   ]
  },
  {
   "cell_type": "code",
   "execution_count": 54,
   "metadata": {},
   "outputs": [],
   "source": [
    "svm = RandomForestClassifier(random_state=43) #MLPClassifier(batch_size=32, solver=\"adam\", hidden_layer_sizes=(1536, 1000, 512), verbose=True, early_stopping=True, n_iter_no_change=5)\n",
    "\n",
    "svm.fit(new_train_x, labels_train_low)\n",
    "labels_val_low_predict = svm.predict(new_val_x)\n"
   ]
  },
  {
   "cell_type": "code",
   "execution_count": 79,
   "metadata": {},
   "outputs": [
    {
     "name": "stdout",
     "output_type": "stream",
     "text": [
      "(2692, 15)\n"
     ]
    }
   ],
   "source": [
    "label_encoder = LabelEncoder()\n",
    "y_train = label_encoder.fit_transform(labels_train_low)\n",
    "y_train = to_categorical(y_train)\n",
    "y_val = label_encoder.transform(labels_val_low)\n",
    "y_val = to_categorical(y_val)\n",
    "print(y_train.shape)"
   ]
  },
  {
   "cell_type": "code",
   "execution_count": 81,
   "metadata": {},
   "outputs": [
    {
     "name": "stdout",
     "output_type": "stream",
     "text": [
      "Epoch 1/100\n",
      "85/85 [==============================] - 2s 14ms/step - loss: 3.5272 - accuracy: 0.1542 - val_loss: 2.4462 - val_accuracy: 0.1751\n",
      "Epoch 2/100\n",
      "85/85 [==============================] - 1s 13ms/step - loss: 2.4482 - accuracy: 0.2515 - val_loss: 2.3174 - val_accuracy: 0.3644\n",
      "Epoch 3/100\n",
      "85/85 [==============================] - 1s 13ms/step - loss: 2.4117 - accuracy: 0.2771 - val_loss: 2.2727 - val_accuracy: 0.3743\n",
      "Epoch 4/100\n",
      "85/85 [==============================] - 1s 13ms/step - loss: 2.3613 - accuracy: 0.3124 - val_loss: 2.1708 - val_accuracy: 0.4477\n",
      "Epoch 5/100\n",
      "85/85 [==============================] - 1s 13ms/step - loss: 2.3051 - accuracy: 0.3782 - val_loss: 2.2229 - val_accuracy: 0.3828\n",
      "Epoch 6/100\n",
      "85/85 [==============================] - 1s 13ms/step - loss: 2.2914 - accuracy: 0.3533 - val_loss: 2.1613 - val_accuracy: 0.2472\n",
      "Epoch 7/100\n",
      "85/85 [==============================] - 1s 13ms/step - loss: 2.2219 - accuracy: 0.3614 - val_loss: 2.0436 - val_accuracy: 0.4703\n",
      "Epoch 8/100\n",
      "85/85 [==============================] - 1s 13ms/step - loss: 2.1632 - accuracy: 0.3848 - val_loss: 2.0316 - val_accuracy: 0.4576\n",
      "Epoch 9/100\n",
      "85/85 [==============================] - 1s 13ms/step - loss: 2.1222 - accuracy: 0.3949 - val_loss: 1.9839 - val_accuracy: 0.4831\n",
      "Epoch 10/100\n",
      "85/85 [==============================] - 1s 13ms/step - loss: 2.0770 - accuracy: 0.4120 - val_loss: 2.0093 - val_accuracy: 0.4054\n",
      "Epoch 11/100\n",
      "85/85 [==============================] - 1s 13ms/step - loss: 2.0542 - accuracy: 0.4194 - val_loss: 1.9329 - val_accuracy: 0.4746\n",
      "Epoch 12/100\n",
      "85/85 [==============================] - 1s 13ms/step - loss: 2.0434 - accuracy: 0.3964 - val_loss: 1.8539 - val_accuracy: 0.4774\n",
      "Epoch 13/100\n",
      "85/85 [==============================] - 1s 13ms/step - loss: 1.9840 - accuracy: 0.4146 - val_loss: 1.9095 - val_accuracy: 0.5184\n",
      "Epoch 14/100\n",
      "85/85 [==============================] - 1s 13ms/step - loss: 1.9540 - accuracy: 0.4290 - val_loss: 1.8504 - val_accuracy: 0.4718\n",
      "Epoch 15/100\n",
      "85/85 [==============================] - 1s 13ms/step - loss: 1.9198 - accuracy: 0.4283 - val_loss: 1.8329 - val_accuracy: 0.4774\n",
      "Epoch 16/100\n",
      "85/85 [==============================] - 1s 14ms/step - loss: 1.8764 - accuracy: 0.4302 - val_loss: 1.8265 - val_accuracy: 0.4718\n",
      "Epoch 17/100\n",
      "85/85 [==============================] - 1s 13ms/step - loss: 1.8879 - accuracy: 0.4179 - val_loss: 1.7743 - val_accuracy: 0.5254\n",
      "Epoch 18/100\n",
      "85/85 [==============================] - 1s 13ms/step - loss: 1.8319 - accuracy: 0.4580 - val_loss: 1.7460 - val_accuracy: 0.5494\n",
      "Epoch 19/100\n",
      "85/85 [==============================] - 1s 13ms/step - loss: 1.8128 - accuracy: 0.4443 - val_loss: 1.8434 - val_accuracy: 0.4520\n",
      "Epoch 20/100\n",
      "85/85 [==============================] - 1s 13ms/step - loss: 1.7798 - accuracy: 0.4536 - val_loss: 1.6603 - val_accuracy: 0.5113\n",
      "Epoch 21/100\n",
      "85/85 [==============================] - 1s 13ms/step - loss: 1.7643 - accuracy: 0.4718 - val_loss: 1.6817 - val_accuracy: 0.4859\n",
      "Epoch 22/100\n",
      "85/85 [==============================] - 1s 13ms/step - loss: 1.7343 - accuracy: 0.4718 - val_loss: 1.6879 - val_accuracy: 0.4746\n",
      "Epoch 23/100\n",
      "85/85 [==============================] - 1s 13ms/step - loss: 1.7057 - accuracy: 0.4825 - val_loss: 1.6202 - val_accuracy: 0.5240\n",
      "Epoch 24/100\n",
      "85/85 [==============================] - 1s 13ms/step - loss: 1.6889 - accuracy: 0.4788 - val_loss: 1.6800 - val_accuracy: 0.5085\n",
      "Epoch 25/100\n",
      "85/85 [==============================] - 1s 13ms/step - loss: 1.6907 - accuracy: 0.4632 - val_loss: 1.6329 - val_accuracy: 0.5367\n",
      "Epoch 26/100\n",
      "85/85 [==============================] - 1s 14ms/step - loss: 1.6557 - accuracy: 0.4866 - val_loss: 1.6240 - val_accuracy: 0.5282\n",
      "Epoch 27/100\n",
      "85/85 [==============================] - 1s 13ms/step - loss: 1.6212 - accuracy: 0.4993 - val_loss: 1.6230 - val_accuracy: 0.5367\n",
      "Epoch 28/100\n",
      "85/85 [==============================] - 1s 13ms/step - loss: 1.6240 - accuracy: 0.4814 - val_loss: 1.6130 - val_accuracy: 0.5085\n",
      "Epoch 29/100\n",
      "85/85 [==============================] - 1s 13ms/step - loss: 1.5927 - accuracy: 0.5037 - val_loss: 1.5775 - val_accuracy: 0.5254\n",
      "Epoch 30/100\n",
      "85/85 [==============================] - 1s 13ms/step - loss: 1.5742 - accuracy: 0.5030 - val_loss: 1.5272 - val_accuracy: 0.5579\n",
      "Epoch 31/100\n",
      "85/85 [==============================] - 1s 13ms/step - loss: 1.5612 - accuracy: 0.5100 - val_loss: 1.5683 - val_accuracy: 0.5311\n",
      "Epoch 32/100\n",
      "85/85 [==============================] - 1s 13ms/step - loss: 1.5561 - accuracy: 0.5223 - val_loss: 1.6521 - val_accuracy: 0.4110\n",
      "Epoch 33/100\n",
      "85/85 [==============================] - 1s 13ms/step - loss: 1.5440 - accuracy: 0.5041 - val_loss: 1.5018 - val_accuracy: 0.5198\n",
      "Epoch 34/100\n",
      "85/85 [==============================] - 1s 13ms/step - loss: 1.5169 - accuracy: 0.5230 - val_loss: 1.4717 - val_accuracy: 0.5508\n",
      "Epoch 35/100\n",
      "85/85 [==============================] - 1s 13ms/step - loss: 1.4905 - accuracy: 0.5331 - val_loss: 1.4807 - val_accuracy: 0.5410\n",
      "Epoch 36/100\n",
      "85/85 [==============================] - 1s 13ms/step - loss: 1.4694 - accuracy: 0.5409 - val_loss: 1.4574 - val_accuracy: 0.5438\n",
      "Epoch 37/100\n",
      "85/85 [==============================] - 1s 13ms/step - loss: 1.4419 - accuracy: 0.5446 - val_loss: 1.4865 - val_accuracy: 0.4901\n",
      "Epoch 38/100\n",
      "85/85 [==============================] - 1s 13ms/step - loss: 1.4552 - accuracy: 0.5334 - val_loss: 1.4370 - val_accuracy: 0.5438\n",
      "Epoch 39/100\n",
      "85/85 [==============================] - 1s 13ms/step - loss: 1.4378 - accuracy: 0.5360 - val_loss: 1.4469 - val_accuracy: 0.5678\n",
      "Epoch 40/100\n",
      "85/85 [==============================] - 1s 13ms/step - loss: 1.4290 - accuracy: 0.5464 - val_loss: 1.5313 - val_accuracy: 0.4675\n",
      "Epoch 41/100\n",
      "85/85 [==============================] - 1s 13ms/step - loss: 1.4133 - accuracy: 0.5431 - val_loss: 1.4128 - val_accuracy: 0.5297\n",
      "Epoch 42/100\n",
      "85/85 [==============================] - 1s 13ms/step - loss: 1.3917 - accuracy: 0.5431 - val_loss: 1.4205 - val_accuracy: 0.5480\n",
      "Epoch 43/100\n",
      "85/85 [==============================] - 1s 13ms/step - loss: 1.3745 - accuracy: 0.5505 - val_loss: 1.4443 - val_accuracy: 0.5593\n",
      "Epoch 44/100\n",
      "85/85 [==============================] - 1s 13ms/step - loss: 1.3635 - accuracy: 0.5609 - val_loss: 1.4099 - val_accuracy: 0.5551\n",
      "Epoch 45/100\n",
      "85/85 [==============================] - 1s 13ms/step - loss: 1.3558 - accuracy: 0.5661 - val_loss: 1.4261 - val_accuracy: 0.5014\n",
      "Epoch 46/100\n",
      "85/85 [==============================] - 1s 13ms/step - loss: 1.3594 - accuracy: 0.5453 - val_loss: 1.4192 - val_accuracy: 0.5028\n",
      "Epoch 47/100\n",
      "85/85 [==============================] - 1s 13ms/step - loss: 1.3386 - accuracy: 0.5624 - val_loss: 1.3514 - val_accuracy: 0.5904\n",
      "Epoch 48/100\n",
      "85/85 [==============================] - 1s 14ms/step - loss: 1.3287 - accuracy: 0.5710 - val_loss: 1.4536 - val_accuracy: 0.4605\n",
      "Epoch 49/100\n",
      "85/85 [==============================] - 1s 13ms/step - loss: 1.3131 - accuracy: 0.5676 - val_loss: 1.3503 - val_accuracy: 0.5706\n",
      "Epoch 50/100\n",
      "85/85 [==============================] - 1s 13ms/step - loss: 1.2996 - accuracy: 0.5821 - val_loss: 1.3402 - val_accuracy: 0.5777\n",
      "Epoch 51/100\n",
      "85/85 [==============================] - 1s 13ms/step - loss: 1.2785 - accuracy: 0.5817 - val_loss: 1.4051 - val_accuracy: 0.4873\n",
      "Epoch 52/100\n",
      "85/85 [==============================] - 1s 13ms/step - loss: 1.2880 - accuracy: 0.5799 - val_loss: 1.4531 - val_accuracy: 0.4873\n",
      "Epoch 53/100\n",
      "85/85 [==============================] - 1s 13ms/step - loss: 1.2723 - accuracy: 0.5799 - val_loss: 1.3283 - val_accuracy: 0.5678\n",
      "Epoch 54/100\n",
      "85/85 [==============================] - 1s 13ms/step - loss: 1.2584 - accuracy: 0.5847 - val_loss: 1.2985 - val_accuracy: 0.5862\n",
      "Epoch 55/100\n",
      "85/85 [==============================] - 1s 13ms/step - loss: 1.2575 - accuracy: 0.5877 - val_loss: 1.3400 - val_accuracy: 0.5381\n",
      "Epoch 56/100\n",
      "85/85 [==============================] - 1s 13ms/step - loss: 1.2361 - accuracy: 0.5932 - val_loss: 1.2729 - val_accuracy: 0.5890\n",
      "Epoch 57/100\n",
      "85/85 [==============================] - 1s 13ms/step - loss: 1.2203 - accuracy: 0.6066 - val_loss: 1.2969 - val_accuracy: 0.6045\n",
      "Epoch 58/100\n",
      "85/85 [==============================] - 1s 13ms/step - loss: 1.2380 - accuracy: 0.5888 - val_loss: 1.2887 - val_accuracy: 0.5438\n",
      "Epoch 59/100\n",
      "85/85 [==============================] - 1s 13ms/step - loss: 1.2255 - accuracy: 0.5940 - val_loss: 1.2678 - val_accuracy: 0.5777\n",
      "Epoch 60/100\n",
      "85/85 [==============================] - 1s 13ms/step - loss: 1.2003 - accuracy: 0.5992 - val_loss: 1.3009 - val_accuracy: 0.5226\n",
      "Epoch 61/100\n",
      "85/85 [==============================] - 1s 14ms/step - loss: 1.1822 - accuracy: 0.6111 - val_loss: 1.2598 - val_accuracy: 0.5749\n",
      "Epoch 62/100\n",
      "85/85 [==============================] - 1s 13ms/step - loss: 1.1840 - accuracy: 0.6074 - val_loss: 1.2845 - val_accuracy: 0.5523\n",
      "Epoch 63/100\n",
      "85/85 [==============================] - 1s 13ms/step - loss: 1.1835 - accuracy: 0.6103 - val_loss: 1.2441 - val_accuracy: 0.5890\n",
      "Epoch 64/100\n",
      "85/85 [==============================] - 1s 13ms/step - loss: 1.1875 - accuracy: 0.5936 - val_loss: 1.2826 - val_accuracy: 0.5636\n",
      "Epoch 65/100\n",
      "85/85 [==============================] - 1s 13ms/step - loss: 1.1582 - accuracy: 0.6181 - val_loss: 1.2450 - val_accuracy: 0.5763\n",
      "Epoch 66/100\n",
      "85/85 [==============================] - 1s 13ms/step - loss: 1.1549 - accuracy: 0.6036 - val_loss: 1.3463 - val_accuracy: 0.4887\n",
      "Epoch 67/100\n",
      "85/85 [==============================] - 1s 13ms/step - loss: 1.1603 - accuracy: 0.6118 - val_loss: 1.2247 - val_accuracy: 0.5706\n",
      "Epoch 68/100\n",
      "85/85 [==============================] - 1s 13ms/step - loss: 1.1316 - accuracy: 0.6207 - val_loss: 1.2348 - val_accuracy: 0.5720\n",
      "Epoch 69/100\n",
      "85/85 [==============================] - 1s 13ms/step - loss: 1.1186 - accuracy: 0.6319 - val_loss: 1.2307 - val_accuracy: 0.6088\n",
      "Epoch 70/100\n",
      "85/85 [==============================] - 1s 13ms/step - loss: 1.1335 - accuracy: 0.6118 - val_loss: 1.2135 - val_accuracy: 0.5862\n",
      "Epoch 71/100\n",
      "85/85 [==============================] - 1s 13ms/step - loss: 1.1261 - accuracy: 0.6215 - val_loss: 1.3060 - val_accuracy: 0.4633\n",
      "Epoch 72/100\n",
      "85/85 [==============================] - 1s 13ms/step - loss: 1.1214 - accuracy: 0.6222 - val_loss: 1.2328 - val_accuracy: 0.5325\n",
      "Epoch 73/100\n",
      "85/85 [==============================] - 1s 13ms/step - loss: 1.1218 - accuracy: 0.6170 - val_loss: 1.3258 - val_accuracy: 0.4703\n",
      "Epoch 74/100\n",
      "85/85 [==============================] - 1s 13ms/step - loss: 1.1121 - accuracy: 0.6189 - val_loss: 1.1965 - val_accuracy: 0.6102\n",
      "Epoch 75/100\n",
      "85/85 [==============================] - 1s 13ms/step - loss: 1.0999 - accuracy: 0.6296 - val_loss: 1.1888 - val_accuracy: 0.5791\n",
      "Epoch 76/100\n",
      "85/85 [==============================] - 1s 13ms/step - loss: 1.0783 - accuracy: 0.6311 - val_loss: 1.2621 - val_accuracy: 0.5424\n",
      "Epoch 77/100\n",
      "85/85 [==============================] - 1s 13ms/step - loss: 1.0858 - accuracy: 0.6237 - val_loss: 1.2500 - val_accuracy: 0.5847\n",
      "Epoch 78/100\n",
      "85/85 [==============================] - 1s 13ms/step - loss: 1.0648 - accuracy: 0.6471 - val_loss: 1.1854 - val_accuracy: 0.5819\n",
      "Epoch 79/100\n",
      "85/85 [==============================] - 1s 13ms/step - loss: 1.0950 - accuracy: 0.6200 - val_loss: 1.2102 - val_accuracy: 0.5763\n",
      "Epoch 80/100\n",
      "85/85 [==============================] - 1s 13ms/step - loss: 1.0572 - accuracy: 0.6393 - val_loss: 1.1749 - val_accuracy: 0.6186\n",
      "Epoch 81/100\n",
      "85/85 [==============================] - 1s 13ms/step - loss: 1.0463 - accuracy: 0.6434 - val_loss: 1.1811 - val_accuracy: 0.6144\n",
      "Epoch 82/100\n",
      "85/85 [==============================] - 1s 14ms/step - loss: 1.0643 - accuracy: 0.6282 - val_loss: 1.2009 - val_accuracy: 0.5819\n",
      "Epoch 83/100\n",
      "85/85 [==============================] - 1s 13ms/step - loss: 1.0407 - accuracy: 0.6486 - val_loss: 1.2245 - val_accuracy: 0.5918\n",
      "Epoch 84/100\n",
      "85/85 [==============================] - 1s 13ms/step - loss: 1.0516 - accuracy: 0.6293 - val_loss: 1.1766 - val_accuracy: 0.5946\n",
      "Epoch 85/100\n",
      "85/85 [==============================] - 1s 13ms/step - loss: 1.0417 - accuracy: 0.6330 - val_loss: 1.1615 - val_accuracy: 0.6031\n",
      "Epoch 86/100\n",
      "85/85 [==============================] - 1s 13ms/step - loss: 1.0397 - accuracy: 0.6508 - val_loss: 1.1740 - val_accuracy: 0.5876\n",
      "Epoch 87/100\n",
      "85/85 [==============================] - 1s 13ms/step - loss: 1.0306 - accuracy: 0.6408 - val_loss: 1.2098 - val_accuracy: 0.5226\n",
      "Epoch 88/100\n",
      "85/85 [==============================] - 1s 13ms/step - loss: 1.0175 - accuracy: 0.6482 - val_loss: 1.2081 - val_accuracy: 0.5706\n",
      "Epoch 89/100\n",
      "85/85 [==============================] - 1s 13ms/step - loss: 1.0113 - accuracy: 0.6508 - val_loss: 1.2123 - val_accuracy: 0.5254\n",
      "Epoch 90/100\n",
      "85/85 [==============================] - 1s 13ms/step - loss: 1.0144 - accuracy: 0.6538 - val_loss: 1.2515 - val_accuracy: 0.4859\n",
      "Epoch 91/100\n",
      "85/85 [==============================] - 1s 13ms/step - loss: 1.0052 - accuracy: 0.6530 - val_loss: 1.1784 - val_accuracy: 0.5975\n",
      "Epoch 92/100\n",
      "85/85 [==============================] - 1s 13ms/step - loss: 0.9937 - accuracy: 0.6601 - val_loss: 1.1740 - val_accuracy: 0.5876\n",
      "Epoch 93/100\n",
      "85/85 [==============================] - 1s 13ms/step - loss: 0.9914 - accuracy: 0.6579 - val_loss: 1.1383 - val_accuracy: 0.6003\n",
      "Epoch 94/100\n",
      "85/85 [==============================] - 1s 13ms/step - loss: 0.9976 - accuracy: 0.6623 - val_loss: 1.1876 - val_accuracy: 0.5847\n",
      "Epoch 95/100\n",
      "85/85 [==============================] - 1s 13ms/step - loss: 0.9743 - accuracy: 0.6660 - val_loss: 1.1896 - val_accuracy: 0.5621\n",
      "Epoch 96/100\n",
      "85/85 [==============================] - 1s 13ms/step - loss: 0.9848 - accuracy: 0.6560 - val_loss: 1.2370 - val_accuracy: 0.5141\n",
      "Epoch 97/100\n",
      "85/85 [==============================] - 1s 13ms/step - loss: 0.9866 - accuracy: 0.6527 - val_loss: 1.1823 - val_accuracy: 0.5621\n",
      "Epoch 98/100\n",
      "85/85 [==============================] - 1s 13ms/step - loss: 0.9840 - accuracy: 0.6582 - val_loss: 1.1046 - val_accuracy: 0.6158\n",
      "Epoch 99/100\n",
      "85/85 [==============================] - 1s 13ms/step - loss: 0.9707 - accuracy: 0.6605 - val_loss: 1.1616 - val_accuracy: 0.5805\n",
      "Epoch 100/100\n",
      "85/85 [==============================] - 1s 13ms/step - loss: 0.9709 - accuracy: 0.6534 - val_loss: 1.1272 - val_accuracy: 0.6215\n"
     ]
    },
    {
     "data": {
      "text/plain": [
       "<keras.src.callbacks.History at 0x7f712012fbd0>"
      ]
     },
     "execution_count": 81,
     "metadata": {},
     "output_type": "execute_result"
    }
   ],
   "source": [
    "model = keras.Sequential(\n",
    "    [\n",
    "        keras.Input(shape=(1536)),\n",
    "        layers.Dense(1024, activation=\"relu\"),\n",
    "        layers.Dense(512, activation=\"relu\"),\n",
    "        layers.Dense(15, activation=\"softmax\"),\n",
    "    ]\n",
    ")\n",
    "batch_size = 32\n",
    "epochs = 100\n",
    "\n",
    "model.compile(loss=\"categorical_crossentropy\", optimizer=keras.optimizers.Adam(learning_rate=0.00001), metrics=[\"accuracy\"])\n",
    "model.fit(new_train_x, y_train, batch_size=batch_size, epochs=epochs, validation_data=(new_val_x, y_val))\n"
   ]
  },
  {
   "cell_type": "code",
   "execution_count": 55,
   "metadata": {},
   "outputs": [
    {
     "name": "stdout",
     "output_type": "stream",
     "text": [
      "19.307909604519775 2265.762711864407\n",
      "[0, 25]\n",
      "[64.83050847457628, 80.7909604519774, 92.37288135593221]\n"
     ]
    }
   ],
   "source": [
    "alphas = [0, 25, 50]\n",
    "metrics = DatingMetrics(alphas=alphas)\n",
    "metrics.names\n",
    "\n",
    "vals = metrics.calc(labels_val_low, labels_val_low_predict)\n",
    "\n",
    "mae, mse = tuple(vals[:2])\n",
    "cs_ = vals[2:]\n",
    "\n",
    "print(mae, mse)\n",
    "print([0, 25])\n",
    "print(cs_)\n",
    "\n",
    "# 19.00423728813559 1980.247175141243\n",
    "# [0, 25]\n",
    "# [64.97175141242938, 80.64971751412429, 91.66666666666666]\n",
    "\n",
    "# 19.326271186440678 2154.9138418079096\n",
    "# [0, 25]\n",
    "# [65.11299435028248, 80.9322033898305, 91.38418079096046]"
   ]
  }
 ],
 "metadata": {
  "kernelspec": {
   "display_name": "Python 3",
   "language": "python",
   "name": "python3"
  },
  "language_info": {
   "codemirror_mode": {
    "name": "ipython",
    "version": 3
   },
   "file_extension": ".py",
   "mimetype": "text/x-python",
   "name": "python",
   "nbconvert_exporter": "python",
   "pygments_lexer": "ipython3",
   "version": "3.11.8"
  }
 },
 "nbformat": 4,
 "nbformat_minor": 2
}
